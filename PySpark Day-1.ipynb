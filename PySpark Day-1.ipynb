{
 "cells": [
  {
   "cell_type": "code",
   "execution_count": null,
   "id": "b7136a87-53e5-423c-9faf-55da362364ae",
   "metadata": {},
   "outputs": [],
   "source": [
    "''' Training Part 1 - \n",
    "# Pyspark Data frame,\n",
    "# Reading the dataset, \n",
    "# checking the datatypes of the column(schema), \n",
    "# Selecting Columns,\n",
    "# Check Describe option similar to Pandas\n",
    "# Adding Columns\n",
    "# Dropping Columns \n",
    "# Renaming Columns'''"
   ]
  },
  {
   "cell_type": "code",
   "execution_count": 2,
   "id": "e8964834-369d-4525-b1a7-ef6fbe28cd44",
   "metadata": {},
   "outputs": [],
   "source": [
    "from pyspark.sql import SparkSession"
   ]
  },
  {
   "cell_type": "code",
   "execution_count": 3,
   "id": "f809acd0-8121-42f3-a592-37cdd15ee706",
   "metadata": {},
   "outputs": [],
   "source": [
    "spark = SparkSession.builder.appName('DataFrame').getOrCreate()"
   ]
  },
  {
   "cell_type": "code",
   "execution_count": 4,
   "id": "5bcc380c-bd5c-47ba-905b-3fe7db592b32",
   "metadata": {},
   "outputs": [
    {
     "data": {
      "text/html": [
       "\n",
       "            <div>\n",
       "                <p><b>SparkSession - in-memory</b></p>\n",
       "                \n",
       "        <div>\n",
       "            <p><b>SparkContext</b></p>\n",
       "\n",
       "            <p><a href=\"http://host.docker.internal:4041\">Spark UI</a></p>\n",
       "\n",
       "            <dl>\n",
       "              <dt>Version</dt>\n",
       "                <dd><code>v3.5.1</code></dd>\n",
       "              <dt>Master</dt>\n",
       "                <dd><code>local[*]</code></dd>\n",
       "              <dt>AppName</dt>\n",
       "                <dd><code>DataFrame</code></dd>\n",
       "            </dl>\n",
       "        </div>\n",
       "        \n",
       "            </div>\n",
       "        "
      ],
      "text/plain": [
       "<pyspark.sql.session.SparkSession at 0x24fecb4b4f0>"
      ]
     },
     "execution_count": 4,
     "metadata": {},
     "output_type": "execute_result"
    }
   ],
   "source": [
    "spark"
   ]
  },
  {
   "cell_type": "code",
   "execution_count": 36,
   "id": "3536362a-4186-4a57-a2ee-b88d6f2c217d",
   "metadata": {},
   "outputs": [],
   "source": [
    "## read the dataset\n",
    "df_pyspark = spark.read.option('header', 'true').csv('test1.csv', inferSchema = True)"
   ]
  },
  {
   "cell_type": "code",
   "execution_count": 37,
   "id": "9223183f-4e6e-49f3-805d-78155977ff1c",
   "metadata": {},
   "outputs": [
    {
     "name": "stdout",
     "output_type": "stream",
     "text": [
      "root\n",
      " |-- Name: string (nullable = true)\n",
      " |-- Age: integer (nullable = true)\n",
      " |-- Experience: integer (nullable = true)\n",
      "\n"
     ]
    }
   ],
   "source": [
    "### Check the schema\n",
    "df_pyspark.printSchema()\n",
    "# we can see the age and experience is integer we can change by using inferSchema to True to make integer value"
   ]
  },
  {
   "cell_type": "code",
   "execution_count": 38,
   "id": "10efc806-8c36-494e-896c-5a019bf7134f",
   "metadata": {},
   "outputs": [
    {
     "name": "stdout",
     "output_type": "stream",
     "text": [
      "+------+---+----------+\n",
      "|  Name|Age|Experience|\n",
      "+------+---+----------+\n",
      "|  Amit| 31|        10|\n",
      "| Javed| 30|         8|\n",
      "| Jebin| 21|         4|\n",
      "|Shophi| 22|         2|\n",
      "+------+---+----------+\n",
      "\n"
     ]
    }
   ],
   "source": [
    "df_pyspark = spark.read.csv('test1.csv', header = True, inferSchema=True)\n",
    "df_pyspark.show()"
   ]
  },
  {
   "cell_type": "code",
   "execution_count": 39,
   "id": "18738842-45e6-4ccd-b995-63ca926479d6",
   "metadata": {},
   "outputs": [
    {
     "data": {
      "text/plain": [
       "pyspark.sql.dataframe.DataFrame"
      ]
     },
     "execution_count": 39,
     "metadata": {},
     "output_type": "execute_result"
    }
   ],
   "source": [
    "type(df_pyspark) #dataframe is a data structure on which we can perform diff operations"
   ]
  },
  {
   "cell_type": "code",
   "execution_count": 40,
   "id": "bb9bc9a2-7e52-4bd1-b73d-0c25bcf60184",
   "metadata": {},
   "outputs": [
    {
     "data": {
      "text/plain": [
       "['Name', 'Age', 'Experience']"
      ]
     },
     "execution_count": 40,
     "metadata": {},
     "output_type": "execute_result"
    }
   ],
   "source": [
    "df_pyspark.columns #to get the all columns name"
   ]
  },
  {
   "cell_type": "code",
   "execution_count": 41,
   "id": "b1001eb1-730b-4bee-b209-b636b0669972",
   "metadata": {},
   "outputs": [
    {
     "data": {
      "text/plain": [
       "[Row(Name='Amit', Age=31, Experience=10),\n",
       " Row(Name='Javed', Age=30, Experience=8),\n",
       " Row(Name='Jebin', Age=21, Experience=4),\n",
       " Row(Name='Shophi', Age=22, Experience=2)]"
      ]
     },
     "execution_count": 41,
     "metadata": {},
     "output_type": "execute_result"
    }
   ],
   "source": [
    "df_pyspark.head(4) "
   ]
  },
  {
   "cell_type": "code",
   "execution_count": 42,
   "id": "f2c68ee2-b59d-433f-ae2e-efb7dd9fd5ca",
   "metadata": {},
   "outputs": [
    {
     "name": "stdout",
     "output_type": "stream",
     "text": [
      "+------+\n",
      "|  Name|\n",
      "+------+\n",
      "|  Amit|\n",
      "| Javed|\n",
      "| Jebin|\n",
      "|Shophi|\n",
      "+------+\n",
      "\n"
     ]
    },
    {
     "data": {
      "text/plain": [
       "pyspark.sql.dataframe.DataFrame"
      ]
     },
     "execution_count": 42,
     "metadata": {},
     "output_type": "execute_result"
    }
   ],
   "source": [
    "df_pyspark.select('Name').show()\n",
    "type(df_pyspark.select('Name')) # to get the type"
   ]
  },
  {
   "cell_type": "code",
   "execution_count": 43,
   "id": "6cfc9a89-fa28-43af-8c79-ab07a48f248c",
   "metadata": {},
   "outputs": [
    {
     "name": "stdout",
     "output_type": "stream",
     "text": [
      "+------+---+\n",
      "|  Name|Age|\n",
      "+------+---+\n",
      "|  Amit| 31|\n",
      "| Javed| 30|\n",
      "| Jebin| 21|\n",
      "|Shophi| 22|\n",
      "+------+---+\n",
      "\n"
     ]
    }
   ],
   "source": [
    "#to show multiple rows\n",
    "df_pyspark.select(['Name', 'Age']).show()"
   ]
  },
  {
   "cell_type": "code",
   "execution_count": 44,
   "id": "653d7d66-94ca-4e35-a32b-d0bc4f55cf51",
   "metadata": {},
   "outputs": [
    {
     "data": {
      "text/plain": [
       "Column<'Name'>"
      ]
     },
     "execution_count": 44,
     "metadata": {},
     "output_type": "execute_result"
    }
   ],
   "source": [
    "df_pyspark['Name'] #this will just show the feature there is no show function for it"
   ]
  },
  {
   "cell_type": "code",
   "execution_count": 45,
   "id": "b4a7e40a-f3bb-47e7-9a14-c4f7cdeae2c7",
   "metadata": {},
   "outputs": [
    {
     "data": {
      "text/plain": [
       "[('Name', 'string'), ('Age', 'int'), ('Experience', 'int')]"
      ]
     },
     "execution_count": 45,
     "metadata": {},
     "output_type": "execute_result"
    }
   ],
   "source": [
    "df_pyspark.dtypes #to get the data types of columns"
   ]
  },
  {
   "cell_type": "code",
   "execution_count": 46,
   "id": "92e593c0-9c07-4a13-8aa0-fa8a056a6f99",
   "metadata": {},
   "outputs": [
    {
     "name": "stdout",
     "output_type": "stream",
     "text": [
      "+-------+------+-----------------+------------------+\n",
      "|summary|  Name|              Age|        Experience|\n",
      "+-------+------+-----------------+------------------+\n",
      "|  count|     4|                4|                 4|\n",
      "|   mean|  NULL|             26.0|               6.0|\n",
      "| stddev|  NULL|5.228129047119374|3.6514837167011076|\n",
      "|    min|  Amit|               21|                 2|\n",
      "|    max|Shophi|               31|                10|\n",
      "+-------+------+-----------------+------------------+\n",
      "\n"
     ]
    }
   ],
   "source": [
    "df_pyspark.describe().show() # describe the table"
   ]
  },
  {
   "cell_type": "code",
   "execution_count": 47,
   "id": "fbf48e40-b3aa-47e3-8210-dca87b14a734",
   "metadata": {},
   "outputs": [],
   "source": [
    "## Adding Columns in pyspark data frame\n",
    "df_pyspark = df_pyspark.withColumn('Experience After 2 Year', df_pyspark['Experience']+2) # added a new column with the values"
   ]
  },
  {
   "cell_type": "code",
   "execution_count": 48,
   "id": "90ea54b8-cd89-4afa-8006-9446a6fd6087",
   "metadata": {},
   "outputs": [
    {
     "name": "stdout",
     "output_type": "stream",
     "text": [
      "+------+---+----------+-----------------------+\n",
      "|  Name|Age|Experience|Experience After 2 Year|\n",
      "+------+---+----------+-----------------------+\n",
      "|  Amit| 31|        10|                     12|\n",
      "| Javed| 30|         8|                     10|\n",
      "| Jebin| 21|         4|                      6|\n",
      "|Shophi| 22|         2|                      4|\n",
      "+------+---+----------+-----------------------+\n",
      "\n"
     ]
    }
   ],
   "source": [
    "df_pyspark.show() #you can see its reflecting"
   ]
  },
  {
   "cell_type": "code",
   "execution_count": 50,
   "id": "0a30a1af-c198-48f0-ba2e-ac65b513c9b6",
   "metadata": {},
   "outputs": [],
   "source": [
    "#drop the columns\n",
    "df_pyspark = df_pyspark.drop('Experience After 2 Year')"
   ]
  },
  {
   "cell_type": "code",
   "execution_count": 51,
   "id": "28a81037-a325-4847-bf71-069accb382c4",
   "metadata": {},
   "outputs": [
    {
     "name": "stdout",
     "output_type": "stream",
     "text": [
      "+------+---+----------+\n",
      "|  Name|Age|Experience|\n",
      "+------+---+----------+\n",
      "|  Amit| 31|        10|\n",
      "| Javed| 30|         8|\n",
      "| Jebin| 21|         4|\n",
      "|Shophi| 22|         2|\n",
      "+------+---+----------+\n",
      "\n"
     ]
    }
   ],
   "source": [
    "df_pyspark.show() #here we can see the column has been deleted"
   ]
  },
  {
   "cell_type": "code",
   "execution_count": 52,
   "id": "284928e8-c3b3-4365-8320-da4d0a8f0fa1",
   "metadata": {},
   "outputs": [],
   "source": [
    "#Rename the columns\n",
    "df_pyspark = df_pyspark.withColumnRenamed('Name', 'Profile Name')"
   ]
  },
  {
   "cell_type": "code",
   "execution_count": 53,
   "id": "74bb3c99-eef2-4021-9419-2a65b1ba7b02",
   "metadata": {},
   "outputs": [
    {
     "name": "stdout",
     "output_type": "stream",
     "text": [
      "+------------+---+----------+\n",
      "|Profile Name|Age|Experience|\n",
      "+------------+---+----------+\n",
      "|        Amit| 31|        10|\n",
      "|       Javed| 30|         8|\n",
      "|       Jebin| 21|         4|\n",
      "|      Shophi| 22|         2|\n",
      "+------------+---+----------+\n",
      "\n"
     ]
    }
   ],
   "source": [
    "df_pyspark.show()"
   ]
  },
  {
   "cell_type": "code",
   "execution_count": null,
   "id": "84464952-6d56-4e82-b5dd-5d88d9d0b820",
   "metadata": {},
   "outputs": [],
   "source": []
  }
 ],
 "metadata": {
  "kernelspec": {
   "display_name": "Python 3 (ipykernel)",
   "language": "python",
   "name": "python3"
  },
  "language_info": {
   "codemirror_mode": {
    "name": "ipython",
    "version": 3
   },
   "file_extension": ".py",
   "mimetype": "text/x-python",
   "name": "python",
   "nbconvert_exporter": "python",
   "pygments_lexer": "ipython3",
   "version": "3.8.18"
  }
 },
 "nbformat": 4,
 "nbformat_minor": 5
}

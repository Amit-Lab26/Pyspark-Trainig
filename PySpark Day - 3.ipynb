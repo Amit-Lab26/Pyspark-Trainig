{
 "cells": [
  {
   "cell_type": "code",
   "execution_count": null,
   "id": "377c8bff-0df6-4dd4-9bc3-29bb6d898533",
   "metadata": {},
   "outputs": [],
   "source": [
    "# PySpark dataframes\n",
    "# Filter Operations\n",
    "# & , | , ==\n",
    "# `"
   ]
  },
  {
   "cell_type": "code",
   "execution_count": 16,
   "id": "c7b8d16f-956b-4196-b0f8-483c6cdedc25",
   "metadata": {},
   "outputs": [],
   "source": [
    "# If you want to retrive some of records based on some conditions we can do that using filter operations\n",
    "from pyspark.sql import SparkSession\n"
   ]
  },
  {
   "cell_type": "code",
   "execution_count": 21,
   "id": "5d804ea1-4494-4869-925d-8c4dca301430",
   "metadata": {},
   "outputs": [],
   "source": [
    "spark = SparkSession.builder \\\n",
    "    .appName(\"dataframe\") \\\n",
    "    .getOrCreate()"
   ]
  },
  {
   "cell_type": "code",
   "execution_count": 22,
   "id": "e151ad38-daf9-46d8-b194-cbcb99048ca7",
   "metadata": {},
   "outputs": [],
   "source": [
    "df = spark.read.csv('test3.csv', header = True, inferSchema = True)"
   ]
  },
  {
   "cell_type": "code",
   "execution_count": 23,
   "id": "909602c0-f663-4853-90b9-ef002d093d0e",
   "metadata": {},
   "outputs": [
    {
     "name": "stdout",
     "output_type": "stream",
     "text": [
      "+---------+---+-----------+------+\n",
      "|     Name|age|Experienced|Salary|\n",
      "+---------+---+-----------+------+\n",
      "|    Krish| 31|         10| 30000|\n",
      "|Sudhanshu| 30|          8| 25000|\n",
      "|    Sunny| 29|          4| 20000|\n",
      "|     Paul| 24|          3| 20000|\n",
      "|   Harsha| 21|          1| 15000|\n",
      "|  Shubham| 23|          2| 18000|\n",
      "+---------+---+-----------+------+\n",
      "\n"
     ]
    }
   ],
   "source": [
    "df.show()"
   ]
  },
  {
   "cell_type": "markdown",
   "id": "cf1fc728-d777-428e-8dfc-0527823cd74f",
   "metadata": {},
   "source": [
    "### Filter Operations"
   ]
  },
  {
   "cell_type": "code",
   "execution_count": 24,
   "id": "d80d0cd2-e30e-470d-b22b-0b07ddb1a665",
   "metadata": {},
   "outputs": [
    {
     "name": "stdout",
     "output_type": "stream",
     "text": [
      "+-------+---+-----------+------+\n",
      "|   Name|age|Experienced|Salary|\n",
      "+-------+---+-----------+------+\n",
      "|  Sunny| 29|          4| 20000|\n",
      "|   Paul| 24|          3| 20000|\n",
      "| Harsha| 21|          1| 15000|\n",
      "|Shubham| 23|          2| 18000|\n",
      "+-------+---+-----------+------+\n",
      "\n"
     ]
    }
   ],
   "source": [
    "# to find salary of thr people having less than or equal to  20000\n",
    "df.filter('Salary <=20000').show()"
   ]
  },
  {
   "cell_type": "code",
   "execution_count": 25,
   "id": "4e3065b5-68a4-43ef-b16a-85af9521e849",
   "metadata": {},
   "outputs": [
    {
     "name": "stdout",
     "output_type": "stream",
     "text": [
      "+-------+---+\n",
      "|   Name|age|\n",
      "+-------+---+\n",
      "|  Sunny| 29|\n",
      "|   Paul| 24|\n",
      "| Harsha| 21|\n",
      "|Shubham| 23|\n",
      "+-------+---+\n",
      "\n"
     ]
    }
   ],
   "source": [
    "df.filter(\"salary<=20000\").select(['Name', 'age']).show()"
   ]
  },
  {
   "cell_type": "code",
   "execution_count": 27,
   "id": "0cb41383-ae4d-40d4-a095-aa5b9fa972d3",
   "metadata": {},
   "outputs": [
    {
     "name": "stdout",
     "output_type": "stream",
     "text": [
      "+-------+---+-----------+------+\n",
      "|   Name|age|Experienced|Salary|\n",
      "+-------+---+-----------+------+\n",
      "|  Sunny| 29|          4| 20000|\n",
      "|   Paul| 24|          3| 20000|\n",
      "| Harsha| 21|          1| 15000|\n",
      "|Shubham| 23|          2| 18000|\n",
      "+-------+---+-----------+------+\n",
      "\n"
     ]
    }
   ],
   "source": [
    "df.filter(df['Salary']<=20000).show()"
   ]
  },
  {
   "cell_type": "code",
   "execution_count": 30,
   "id": "3363c030-1d8a-4ab3-afe8-69fc7abeadd2",
   "metadata": {},
   "outputs": [
    {
     "name": "stdout",
     "output_type": "stream",
     "text": [
      "+---------+---+-----------+------+\n",
      "|     Name|age|Experienced|Salary|\n",
      "+---------+---+-----------+------+\n",
      "|    Krish| 31|         10| 30000|\n",
      "|Sudhanshu| 30|          8| 25000|\n",
      "|    Sunny| 29|          4| 20000|\n",
      "|     Paul| 24|          3| 20000|\n",
      "|   Harsha| 21|          1| 15000|\n",
      "|  Shubham| 23|          2| 18000|\n",
      "+---------+---+-----------+------+\n",
      "\n"
     ]
    }
   ],
   "source": [
    "df.filter((df['Salary']<=20000) | (df['Salary']>=15000)).show()"
   ]
  },
  {
   "cell_type": "code",
   "execution_count": 33,
   "id": "ad1de2f7-723c-4d67-92fa-8098de609c6a",
   "metadata": {},
   "outputs": [
    {
     "name": "stdout",
     "output_type": "stream",
     "text": [
      "+---------+---+-----------+------+\n",
      "|     Name|age|Experienced|Salary|\n",
      "+---------+---+-----------+------+\n",
      "|    Krish| 31|         10| 30000|\n",
      "|Sudhanshu| 30|          8| 25000|\n",
      "+---------+---+-----------+------+\n",
      "\n"
     ]
    }
   ],
   "source": [
    "df.filter(~(df['Salary']<=20000)).show()"
   ]
  },
  {
   "cell_type": "code",
   "execution_count": null,
   "id": "430190ae-f0e9-4535-a29c-5bfab816266c",
   "metadata": {},
   "outputs": [],
   "source": []
  }
 ],
 "metadata": {
  "kernelspec": {
   "display_name": "Python 3 (ipykernel)",
   "language": "python",
   "name": "python3"
  },
  "language_info": {
   "codemirror_mode": {
    "name": "ipython",
    "version": 3
   },
   "file_extension": ".py",
   "mimetype": "text/x-python",
   "name": "python",
   "nbconvert_exporter": "python",
   "pygments_lexer": "ipython3",
   "version": "3.8.18"
  }
 },
 "nbformat": 4,
 "nbformat_minor": 5
}

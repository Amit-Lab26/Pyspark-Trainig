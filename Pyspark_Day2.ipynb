{
 "cells": [
  {
   "cell_type": "code",
   "execution_count": null,
   "id": "94857bc4-8013-4117-822d-29e87f6ac74d",
   "metadata": {},
   "outputs": [],
   "source": [
    "# Handling Missing Values\n",
    "# Dropping Columns\n",
    "# Dropping Rows\n",
    "# Various parameter in dropping functionalities1\n",
    "# Handling missing values by Mean, Median & Mode"
   ]
  },
  {
   "cell_type": "code",
   "execution_count": 1,
   "id": "d1307b16-f3e8-4bbb-b5c6-2f8e46a12c8a",
   "metadata": {},
   "outputs": [],
   "source": [
    "from pyspark.sql import SparkSession\n",
    "spark = SparkSession.builder.appName('handling_data').getOrCreate()"
   ]
  },
  {
   "cell_type": "code",
   "execution_count": 18,
   "id": "9631ed96-8e18-4a3b-a6b9-bacce8f253ea",
   "metadata": {},
   "outputs": [
    {
     "data": {
      "text/plain": [
       "DataFrame[Name: string, Age: int, Experience: int, Salary: int]"
      ]
     },
     "execution_count": 18,
     "metadata": {},
     "output_type": "execute_result"
    }
   ],
   "source": [
    "spark.read.csv('test2.csv', header = True, inferSchema = True)"
   ]
  },
  {
   "cell_type": "code",
   "execution_count": 19,
   "id": "6bdbbbc4-a851-4629-b345-83b9590b3bb7",
   "metadata": {},
   "outputs": [
    {
     "name": "stdout",
     "output_type": "stream",
     "text": [
      "+-------+----+----------+------+\n",
      "|   Name| Age|Experience|Salary|\n",
      "+-------+----+----------+------+\n",
      "|  Krish|  33|        10| 30000|\n",
      "|   Amit|  32|         8| 25000|\n",
      "|  Rohit|  21|         4| 15000|\n",
      "|  Naman|  34|         3| 20000|\n",
      "| Chitra|  22|         2|400000|\n",
      "|Rukmani|  32|         1| 10000|\n",
      "|Devbabu|NULL|        12| 16000|\n",
      "|   NULL|  34|        10|  NULL|\n",
      "|   NULL|  55|      NULL|  NULL|\n",
      "|   NULL|NULL|        24|  NULL|\n",
      "+-------+----+----------+------+\n",
      "\n"
     ]
    }
   ],
   "source": [
    "spark.read.csv('test2.csv', header = True, inferSchema = True).show()"
   ]
  },
  {
   "cell_type": "code",
   "execution_count": 20,
   "id": "6d31c897-66b3-46cc-857c-fc08d69dc373",
   "metadata": {},
   "outputs": [],
   "source": [
    "df_pyspark = spark.read.csv('test2.csv', header = True, inferSchema = True)"
   ]
  },
  {
   "cell_type": "code",
   "execution_count": 21,
   "id": "587b2b51-9bac-4a3a-a086-313614e2c4c0",
   "metadata": {},
   "outputs": [
    {
     "name": "stdout",
     "output_type": "stream",
     "text": [
      "+----+----------+------+\n",
      "| Age|Experience|Salary|\n",
      "+----+----------+------+\n",
      "|  33|        10| 30000|\n",
      "|  32|         8| 25000|\n",
      "|  21|         4| 15000|\n",
      "|  34|         3| 20000|\n",
      "|  22|         2|400000|\n",
      "|  32|         1| 10000|\n",
      "|NULL|        12| 16000|\n",
      "|  34|        10|  NULL|\n",
      "|  55|      NULL|  NULL|\n",
      "|NULL|        24|  NULL|\n",
      "+----+----------+------+\n",
      "\n"
     ]
    }
   ],
   "source": [
    "## drop the columns\n",
    "df_pyspark.drop('Name').show()"
   ]
  },
  {
   "cell_type": "code",
   "execution_count": 22,
   "id": "468fd683-9337-4da2-8b3e-83a2a74a20cf",
   "metadata": {},
   "outputs": [
    {
     "name": "stdout",
     "output_type": "stream",
     "text": [
      "+-------+----+----------+------+\n",
      "|   Name| Age|Experience|Salary|\n",
      "+-------+----+----------+------+\n",
      "|  Krish|  33|        10| 30000|\n",
      "|   Amit|  32|         8| 25000|\n",
      "|  Rohit|  21|         4| 15000|\n",
      "|  Naman|  34|         3| 20000|\n",
      "| Chitra|  22|         2|400000|\n",
      "|Rukmani|  32|         1| 10000|\n",
      "|Devbabu|NULL|        12| 16000|\n",
      "|   NULL|  34|        10|  NULL|\n",
      "|   NULL|  55|      NULL|  NULL|\n",
      "|   NULL|NULL|        24|  NULL|\n",
      "+-------+----+----------+------+\n",
      "\n"
     ]
    }
   ],
   "source": [
    "df_pyspark.show() # changes has not been made to actual data frame"
   ]
  },
  {
   "cell_type": "code",
   "execution_count": 23,
   "id": "20012a2d-ee79-4676-8a62-20c7c4885cb2",
   "metadata": {},
   "outputs": [
    {
     "name": "stdout",
     "output_type": "stream",
     "text": [
      "+-------+---+----------+------+\n",
      "|   Name|Age|Experience|Salary|\n",
      "+-------+---+----------+------+\n",
      "|  Krish| 33|        10| 30000|\n",
      "|   Amit| 32|         8| 25000|\n",
      "|  Rohit| 21|         4| 15000|\n",
      "|  Naman| 34|         3| 20000|\n",
      "| Chitra| 22|         2|400000|\n",
      "|Rukmani| 32|         1| 10000|\n",
      "+-------+---+----------+------+\n",
      "\n"
     ]
    }
   ],
   "source": [
    "# we will drop the null values in df\n",
    "df_pyspark.na.drop().show()"
   ]
  },
  {
   "cell_type": "code",
   "execution_count": 24,
   "id": "87f08d1f-d7a1-43b7-b93b-f7b33efe2bc5",
   "metadata": {},
   "outputs": [
    {
     "name": "stdout",
     "output_type": "stream",
     "text": [
      "+-------+---+----------+------+\n",
      "|   Name|Age|Experience|Salary|\n",
      "+-------+---+----------+------+\n",
      "|  Krish| 33|        10| 30000|\n",
      "|   Amit| 32|         8| 25000|\n",
      "|  Rohit| 21|         4| 15000|\n",
      "|  Naman| 34|         3| 20000|\n",
      "| Chitra| 22|         2|400000|\n",
      "|Rukmani| 32|         1| 10000|\n",
      "+-------+---+----------+------+\n",
      "\n"
     ]
    }
   ],
   "source": [
    "## lets understand the features of drop function\n",
    "### any == how\n",
    "# 'any' means if column has null value just drop that row\n",
    "# 'all' means if those records that are comepletely null\n",
    "df_pyspark.na.drop(how = \"any\").show()"
   ]
  },
  {
   "cell_type": "code",
   "execution_count": 29,
   "id": "d30f0666-676c-4ec0-81e8-8ad0d5711678",
   "metadata": {},
   "outputs": [
    {
     "name": "stdout",
     "output_type": "stream",
     "text": [
      "+-------+----+----------+------+\n",
      "|   Name| Age|Experience|Salary|\n",
      "+-------+----+----------+------+\n",
      "|  Krish|  33|        10| 30000|\n",
      "|   Amit|  32|         8| 25000|\n",
      "|  Rohit|  21|         4| 15000|\n",
      "|  Naman|  34|         3| 20000|\n",
      "| Chitra|  22|         2|400000|\n",
      "|Rukmani|  32|         1| 10000|\n",
      "|Devbabu|NULL|        12| 16000|\n",
      "|   NULL|  34|        10|  NULL|\n",
      "+-------+----+----------+------+\n",
      "\n"
     ]
    }
   ],
   "source": [
    "# thershold delete the row which has atleast 2 null values\n",
    "df_pyspark.na.drop(how='any', thresh=2).show()"
   ]
  },
  {
   "cell_type": "code",
   "execution_count": 30,
   "id": "30a7b383-79cd-45d7-bf72-36deaec2500f",
   "metadata": {},
   "outputs": [
    {
     "name": "stdout",
     "output_type": "stream",
     "text": [
      "+-------+----+----------+------+\n",
      "|   Name| Age|Experience|Salary|\n",
      "+-------+----+----------+------+\n",
      "|  Krish|  33|        10| 30000|\n",
      "|   Amit|  32|         8| 25000|\n",
      "|  Rohit|  21|         4| 15000|\n",
      "|  Naman|  34|         3| 20000|\n",
      "| Chitra|  22|         2|400000|\n",
      "|Rukmani|  32|         1| 10000|\n",
      "|Devbabu|NULL|        12| 16000|\n",
      "|   NULL|  34|        10|  NULL|\n",
      "|   NULL|NULL|        24|  NULL|\n",
      "+-------+----+----------+------+\n",
      "\n"
     ]
    }
   ],
   "source": [
    "# subset, if you want to drop the nan values from specific columns\n",
    "df_pyspark.na.drop(how='any', subset=['Experience']).show()"
   ]
  },
  {
   "cell_type": "code",
   "execution_count": 31,
   "id": "d9bcedde-cd31-49aa-8981-33e48d5e3131",
   "metadata": {},
   "outputs": [
    {
     "name": "stdout",
     "output_type": "stream",
     "text": [
      "+--------------+----+----------+------+\n",
      "|          Name| Age|Experience|Salary|\n",
      "+--------------+----+----------+------+\n",
      "|         Krish|  33|        10| 30000|\n",
      "|          Amit|  32|         8| 25000|\n",
      "|         Rohit|  21|         4| 15000|\n",
      "|         Naman|  34|         3| 20000|\n",
      "|        Chitra|  22|         2|400000|\n",
      "|       Rukmani|  32|         1| 10000|\n",
      "|       Devbabu|NULL|        12| 16000|\n",
      "|Missing Values|  34|        10|  NULL|\n",
      "|Missing Values|  55|      NULL|  NULL|\n",
      "|Missing Values|NULL|        24|  NULL|\n",
      "+--------------+----+----------+------+\n",
      "\n"
     ]
    }
   ],
   "source": [
    "#Filling missing values it will take one nan value, one subset\n",
    "df_pyspark.na.fill('Missing Values').show()"
   ]
  },
  {
   "cell_type": "code",
   "execution_count": 39,
   "id": "56f08b5c-19e5-4392-8532-7568ae82d0f3",
   "metadata": {},
   "outputs": [
    {
     "name": "stdout",
     "output_type": "stream",
     "text": [
      "+-------+----+----------+------+\n",
      "|   Name| Age|Experience|Salary|\n",
      "+-------+----+----------+------+\n",
      "|  Krish|  33|        10| 30000|\n",
      "|   Amit|  32|         8| 25000|\n",
      "|  Rohit|  21|         4| 15000|\n",
      "|  Naman|  34|         3| 20000|\n",
      "| Chitra|  22|         2|400000|\n",
      "|Rukmani|  32|         1| 10000|\n",
      "|Devbabu|NULL|        12| 16000|\n",
      "|   NULL|  34|        10|  NULL|\n",
      "|   NULL|  55|      NULL|  NULL|\n",
      "|   NULL|NULL|        24|  NULL|\n",
      "+-------+----+----------+------+\n",
      "\n"
     ]
    }
   ],
   "source": [
    "#to fill only specific columns\n",
    "df_pyspark.na.fill({'age':'unknown', 'Experience':'unknown'}).show()"
   ]
  },
  {
   "cell_type": "code",
   "execution_count": 49,
   "id": "fa798f69-de97-4db3-8c7c-0db1f4a9eae9",
   "metadata": {},
   "outputs": [],
   "source": [
    "# replacing null values with the mean\n",
    "from pyspark.ml.feature import Imputer\n",
    "imputer = Imputer(\n",
    "    inputCols=['Age','Experience','Salary'],\n",
    "    outputCols=[\"{}_imputed\".format(c) for c in ['Age','Experience', 'Salary']]\n",
    "                ).setStrategy(\"mean\")"
   ]
  },
  {
   "cell_type": "code",
   "execution_count": 50,
   "id": "0067c51b-8930-43a1-855d-e2647ac4495f",
   "metadata": {},
   "outputs": [
    {
     "name": "stdout",
     "output_type": "stream",
     "text": [
      "+-------+----+----------+------+-----------+------------------+--------------+\n",
      "|   Name| Age|Experience|Salary|Age_imputed|Experience_imputed|Salary_imputed|\n",
      "+-------+----+----------+------+-----------+------------------+--------------+\n",
      "|  Krish|  33|        10| 30000|         33|                10|         30000|\n",
      "|   Amit|  32|         8| 25000|         32|                 8|         25000|\n",
      "|  Rohit|  21|         4| 15000|         21|                 4|         15000|\n",
      "|  Naman|  34|         3| 20000|         34|                 3|         20000|\n",
      "| Chitra|  22|         2|400000|         22|                 2|        400000|\n",
      "|Rukmani|  32|         1| 10000|         32|                 1|         10000|\n",
      "|Devbabu|NULL|        12| 16000|         32|                12|         16000|\n",
      "|   NULL|  34|        10|  NULL|         34|                10|         73714|\n",
      "|   NULL|  55|      NULL|  NULL|         55|                 8|         73714|\n",
      "|   NULL|NULL|        24|  NULL|         32|                24|         73714|\n",
      "+-------+----+----------+------+-----------+------------------+--------------+\n",
      "\n"
     ]
    }
   ],
   "source": [
    "#Add imputation cols to df\n",
    "imputer.fit(df_pyspark).transform(df_pyspark).show()"
   ]
  },
  {
   "cell_type": "code",
   "execution_count": 51,
   "id": "f1a3b617-f61f-4d9b-ba9a-3189119dea59",
   "metadata": {},
   "outputs": [],
   "source": [
    "# replacing null values with the mean\n",
    "imputer = Imputer(\n",
    "    inputCols=['Age','Experience','Salary'],\n",
    "    outputCols=[\"{}_imputed\".format(c) for c in ['Age','Experience', 'Salary']]\n",
    "                ).setStrategy(\"median\")"
   ]
  },
  {
   "cell_type": "code",
   "execution_count": 52,
   "id": "60c6540a-4bbe-4840-affb-530f9f1bb0e8",
   "metadata": {},
   "outputs": [
    {
     "name": "stdout",
     "output_type": "stream",
     "text": [
      "+-------+----+----------+------+-----------+------------------+--------------+\n",
      "|   Name| Age|Experience|Salary|Age_imputed|Experience_imputed|Salary_imputed|\n",
      "+-------+----+----------+------+-----------+------------------+--------------+\n",
      "|  Krish|  33|        10| 30000|         33|                10|         30000|\n",
      "|   Amit|  32|         8| 25000|         32|                 8|         25000|\n",
      "|  Rohit|  21|         4| 15000|         21|                 4|         15000|\n",
      "|  Naman|  34|         3| 20000|         34|                 3|         20000|\n",
      "| Chitra|  22|         2|400000|         22|                 2|        400000|\n",
      "|Rukmani|  32|         1| 10000|         32|                 1|         10000|\n",
      "|Devbabu|NULL|        12| 16000|         32|                12|         16000|\n",
      "|   NULL|  34|        10|  NULL|         34|                10|         20000|\n",
      "|   NULL|  55|      NULL|  NULL|         55|                 8|         20000|\n",
      "|   NULL|NULL|        24|  NULL|         32|                24|         20000|\n",
      "+-------+----+----------+------+-----------+------------------+--------------+\n",
      "\n"
     ]
    }
   ],
   "source": [
    "#Add imputation cols to df\n",
    "imputer.fit(df_pyspark).transform(df_pyspark).show()"
   ]
  },
  {
   "cell_type": "code",
   "execution_count": null,
   "id": "cb921263-795d-4aab-8d88-64efa25938ad",
   "metadata": {},
   "outputs": [],
   "source": []
  }
 ],
 "metadata": {
  "kernelspec": {
   "display_name": "Python 3 (ipykernel)",
   "language": "python",
   "name": "python3"
  },
  "language_info": {
   "codemirror_mode": {
    "name": "ipython",
    "version": 3
   },
   "file_extension": ".py",
   "mimetype": "text/x-python",
   "name": "python",
   "nbconvert_exporter": "python",
   "pygments_lexer": "ipython3",
   "version": "3.8.18"
  }
 },
 "nbformat": 4,
 "nbformat_minor": 5
}

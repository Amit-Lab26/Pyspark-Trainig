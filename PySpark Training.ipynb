{
 "cells": [
  {
   "cell_type": "raw",
   "id": "a75f8802-c6e0-46c9-8e7c-a5cb2a5ee72e",
   "metadata": {},
   "source": [
    "# Basic operation we can perform after installing PySpark"
   ]
  },
  {
   "cell_type": "code",
   "execution_count": 2,
   "id": "dae41978-2b4e-422a-857d-8c28d284b9e5",
   "metadata": {},
   "outputs": [],
   "source": [
    "import pyspark"
   ]
  },
  {
   "cell_type": "code",
   "execution_count": 4,
   "id": "c34a46bb-50a0-4d66-9d88-ddd6d2ec0eb8",
   "metadata": {},
   "outputs": [
    {
     "data": {
      "text/html": [
       "<div>\n",
       "<style scoped>\n",
       "    .dataframe tbody tr th:only-of-type {\n",
       "        vertical-align: middle;\n",
       "    }\n",
       "\n",
       "    .dataframe tbody tr th {\n",
       "        vertical-align: top;\n",
       "    }\n",
       "\n",
       "    .dataframe thead th {\n",
       "        text-align: right;\n",
       "    }\n",
       "</style>\n",
       "<table border=\"1\" class=\"dataframe\">\n",
       "  <thead>\n",
       "    <tr style=\"text-align: right;\">\n",
       "      <th></th>\n",
       "      <th>Name</th>\n",
       "      <th>Age</th>\n",
       "    </tr>\n",
       "  </thead>\n",
       "  <tbody>\n",
       "    <tr>\n",
       "      <th>0</th>\n",
       "      <td>Amit</td>\n",
       "      <td>31</td>\n",
       "    </tr>\n",
       "    <tr>\n",
       "      <th>1</th>\n",
       "      <td>Javed</td>\n",
       "      <td>30</td>\n",
       "    </tr>\n",
       "    <tr>\n",
       "      <th>2</th>\n",
       "      <td>Jebin</td>\n",
       "      <td>21</td>\n",
       "    </tr>\n",
       "    <tr>\n",
       "      <th>3</th>\n",
       "      <td>Shophi</td>\n",
       "      <td>22</td>\n",
       "    </tr>\n",
       "  </tbody>\n",
       "</table>\n",
       "</div>"
      ],
      "text/plain": [
       "     Name  Age\n",
       "0    Amit   31\n",
       "1   Javed   30\n",
       "2   Jebin   21\n",
       "3  Shophi   22"
      ]
     },
     "execution_count": 4,
     "metadata": {},
     "output_type": "execute_result"
    }
   ],
   "source": [
    "import pandas as pd\n",
    "pd.read_csv('test1.csv')"
   ]
  },
  {
   "cell_type": "code",
   "execution_count": 5,
   "id": "da9eee99-a702-4ad2-a7fd-9e20c7b66d17",
   "metadata": {},
   "outputs": [],
   "source": [
    "#creating pyspark session\n",
    "from pyspark.sql import SparkSession"
   ]
  },
  {
   "cell_type": "code",
   "execution_count": 8,
   "id": "7c01e35d-59ab-4145-9a78-9662a4c1ead1",
   "metadata": {},
   "outputs": [],
   "source": [
    "spark = SparkSession.builder.appName('Practise').getOrCreate()"
   ]
  },
  {
   "cell_type": "code",
   "execution_count": 9,
   "id": "6c4dcfd0-2264-4d4b-b4f4-13b894eeafa5",
   "metadata": {},
   "outputs": [
    {
     "data": {
      "text/html": [
       "\n",
       "            <div>\n",
       "                <p><b>SparkSession - in-memory</b></p>\n",
       "                \n",
       "        <div>\n",
       "            <p><b>SparkContext</b></p>\n",
       "\n",
       "            <p><a href=\"http://host.docker.internal:4040\">Spark UI</a></p>\n",
       "\n",
       "            <dl>\n",
       "              <dt>Version</dt>\n",
       "                <dd><code>v3.5.1</code></dd>\n",
       "              <dt>Master</dt>\n",
       "                <dd><code>local[*]</code></dd>\n",
       "              <dt>AppName</dt>\n",
       "                <dd><code>Practise</code></dd>\n",
       "            </dl>\n",
       "        </div>\n",
       "        \n",
       "            </div>\n",
       "        "
      ],
      "text/plain": [
       "<pyspark.sql.session.SparkSession at 0x1b8e674b370>"
      ]
     },
     "execution_count": 9,
     "metadata": {},
     "output_type": "execute_result"
    }
   ],
   "source": [
    "spark"
   ]
  },
  {
   "cell_type": "code",
   "execution_count": 10,
   "id": "4fa4cabc-04bf-44c8-81c9-3238d5730568",
   "metadata": {},
   "outputs": [],
   "source": [
    "df_pyspark = spark.read.csv('test1.csv') #Reading a file"
   ]
  },
  {
   "cell_type": "code",
   "execution_count": 11,
   "id": "33a94c4e-7ab6-4d54-af41-f596ea88a40d",
   "metadata": {},
   "outputs": [
    {
     "data": {
      "text/plain": [
       "DataFrame[_c0: string, _c1: string]"
      ]
     },
     "execution_count": 11,
     "metadata": {},
     "output_type": "execute_result"
    }
   ],
   "source": [
    "df_pyspark # we can see the c0: String and c1: String which represent a columns in dataframe"
   ]
  },
  {
   "cell_type": "code",
   "execution_count": null,
   "id": "e94450d3-6dcd-4811-881b-76bf4abcd53c",
   "metadata": {},
   "outputs": [],
   "source": []
  },
  {
   "cell_type": "code",
   "execution_count": 12,
   "id": "71087b9a-a1df-429d-b7a3-9c6355f72586",
   "metadata": {},
   "outputs": [
    {
     "name": "stdout",
     "output_type": "stream",
     "text": [
      "+------+---+\n",
      "|   _c0|_c1|\n",
      "+------+---+\n",
      "|  Name|Age|\n",
      "|  Amit| 31|\n",
      "| Javed| 30|\n",
      "| Jebin| 21|\n",
      "|Shophi| 22|\n",
      "+------+---+\n",
      "\n"
     ]
    }
   ],
   "source": [
    "df_pyspark.show() # To show all data"
   ]
  },
  {
   "cell_type": "code",
   "execution_count": 22,
   "id": "b45e954a-30fb-4748-b6a7-374f27c6de11",
   "metadata": {},
   "outputs": [],
   "source": [
    "df_pyspark = saprk.read.option('header', 'true').csv('test1.csv')  # here we are reading a file with actual headers i.e Name, Age"
   ]
  },
  {
   "cell_type": "code",
   "execution_count": 25,
   "id": "44fb733c-ac30-4bdf-bbc1-9c0e6d556d8f",
   "metadata": {},
   "outputs": [
    {
     "name": "stdout",
     "output_type": "stream",
     "text": [
      "+------+---+\n",
      "|  Name|Age|\n",
      "+------+---+\n",
      "|  Amit| 31|\n",
      "| Javed| 30|\n",
      "| Jebin| 21|\n",
      "|Shophi| 22|\n",
      "+------+---+\n",
      "\n"
     ]
    }
   ],
   "source": [
    "saprk.read.option('header', 'true').csv('test1.csv').show() #Let's how table looks"
   ]
  },
  {
   "cell_type": "code",
   "execution_count": 27,
   "id": "11a00477-95c2-401f-abc2-309a16fe4426",
   "metadata": {},
   "outputs": [
    {
     "data": {
      "text/plain": [
       "pyspark.sql.dataframe.DataFrame"
      ]
     },
     "execution_count": 27,
     "metadata": {},
     "output_type": "execute_result"
    }
   ],
   "source": [
    "type(df_pyspark) #getting type of table"
   ]
  },
  {
   "cell_type": "code",
   "execution_count": 30,
   "id": "5caae2de-d344-4e79-a0e7-39c9b6cb0e5e",
   "metadata": {},
   "outputs": [
    {
     "data": {
      "text/plain": [
       "Row(Name='Amit', Age='31')"
      ]
     },
     "execution_count": 30,
     "metadata": {},
     "output_type": "execute_result"
    }
   ],
   "source": [
    "df_pyspark.head() # getting the head data, put a number of rows inside head(_) as per need."
   ]
  },
  {
   "cell_type": "code",
   "execution_count": 33,
   "id": "d718f761-99f3-4702-95e8-5578bab9cd70",
   "metadata": {},
   "outputs": [
    {
     "name": "stdout",
     "output_type": "stream",
     "text": [
      "root\n",
      " |-- Name: string (nullable = true)\n",
      " |-- Age: string (nullable = true)\n",
      "\n"
     ]
    }
   ],
   "source": [
    "df_pyspark.printSchema() # To get detailed info of column df"
   ]
  },
  {
   "cell_type": "code",
   "execution_count": null,
   "id": "38406bd3-cb47-404f-a10d-4491888ca431",
   "metadata": {},
   "outputs": [],
   "source": [
    "''' Training Part 1 - \n",
    "# Pyspark Data frame,\n",
    "# Reading the dataset, \n",
    "# checking the datatypes of the column(schema), \n",
    "# Selecting Columns And Indexing,\n",
    "# Check Describe option similar to Pandas\n",
    "# Adding Columns\n",
    "# Dropping Columns '''"
   ]
  },
  {
   "cell_type": "code",
   "execution_count": null,
   "id": "4396ca5c-3e3a-40f0-b5f4-11da834d632c",
   "metadata": {},
   "outputs": [],
   "source": []
  },
  {
   "cell_type": "code",
   "execution_count": null,
   "id": "ae7d836c-13b4-47d6-95cd-f29ec8203869",
   "metadata": {},
   "outputs": [],
   "source": []
  },
  {
   "cell_type": "code",
   "execution_count": null,
   "id": "b1482c9c-18dd-49b9-9e73-f1d553a5c62f",
   "metadata": {},
   "outputs": [],
   "source": []
  },
  {
   "cell_type": "code",
   "execution_count": null,
   "id": "74d4c66a-7ff4-42af-9259-692adb8a29bb",
   "metadata": {},
   "outputs": [],
   "source": []
  },
  {
   "cell_type": "code",
   "execution_count": null,
   "id": "5417383a-ccd5-4e3e-98b5-581a04955432",
   "metadata": {},
   "outputs": [],
   "source": []
  },
  {
   "cell_type": "code",
   "execution_count": null,
   "id": "3e06b9ea-802a-4770-b96d-67b11eee3fdf",
   "metadata": {},
   "outputs": [],
   "source": []
  },
  {
   "cell_type": "code",
   "execution_count": null,
   "id": "90e5bd81-de2d-475b-abc4-885a8252a044",
   "metadata": {},
   "outputs": [],
   "source": []
  },
  {
   "cell_type": "code",
   "execution_count": null,
   "id": "67094c67-2c38-4f21-a02d-a5886c5d5dbc",
   "metadata": {},
   "outputs": [],
   "source": []
  },
  {
   "cell_type": "code",
   "execution_count": null,
   "id": "a97d6de1-1a8f-42e6-abcf-9fe215cd773e",
   "metadata": {},
   "outputs": [],
   "source": []
  },
  {
   "cell_type": "code",
   "execution_count": null,
   "id": "3fc27847-6a11-46ab-b253-48c5a3d2ae14",
   "metadata": {},
   "outputs": [],
   "source": []
  },
  {
   "cell_type": "code",
   "execution_count": null,
   "id": "18cad49c-6bec-479c-951b-42271cfac83c",
   "metadata": {},
   "outputs": [],
   "source": []
  },
  {
   "cell_type": "code",
   "execution_count": null,
   "id": "490cae00-95b7-431f-87f9-8cca61f9d2fe",
   "metadata": {},
   "outputs": [],
   "source": []
  }
 ],
 "metadata": {
  "kernelspec": {
   "display_name": "Python 3 (ipykernel)",
   "language": "python",
   "name": "python3"
  },
  "language_info": {
   "codemirror_mode": {
    "name": "ipython",
    "version": 3
   },
   "file_extension": ".py",
   "mimetype": "text/x-python",
   "name": "python",
   "nbconvert_exporter": "python",
   "pygments_lexer": "ipython3",
   "version": "3.8.18"
  }
 },
 "nbformat": 4,
 "nbformat_minor": 5
}
